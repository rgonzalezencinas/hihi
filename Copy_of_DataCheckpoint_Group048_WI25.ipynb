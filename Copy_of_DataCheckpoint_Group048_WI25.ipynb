{
  "cells": [
    {
      "cell_type": "markdown",
      "metadata": {
        "editable": true,
        "tags": [],
        "id": "ZM8w5pHoWgQW"
      },
      "source": [
        "**If you lost points on the last checkpoint you can get them back by responding to TA/IA feedback**  \n",
        "\n",
        "*Update/change the relevant sections* where you lost those points, make sure you respond on GitHub Issues to your TA/IA to call their attention to the changes you made here.\n",
        "\n",
        "Please *update your Timeline*... no battle plan survives contact with the enemy, so make sure we understand how your plans have changed."
      ]
    },
    {
      "cell_type": "markdown",
      "metadata": {
        "id": "dfi4SNHQWgQZ"
      },
      "source": [
        "# COGS 108 - Data Checkpoint"
      ]
    },
    {
      "cell_type": "code",
      "execution_count": null,
      "metadata": {
        "id": "2CEmRm7dWgQb",
        "outputId": "17c7e04a-3b7a-41b7-de8c-a492e7d2d9f8"
      },
      "outputs": [
        {
          "ename": "SyntaxError",
          "evalue": "invalid syntax (3330686435.py, line 16)",
          "output_type": "error",
          "traceback": [
            "\u001b[1;36m  Cell \u001b[1;32mIn[260], line 16\u001b[1;36m\u001b[0m\n\u001b[1;33m    df.info()df_overdoseopioid_valuesdf_overdose\u001b[0m\n\u001b[1;37m             ^\u001b[0m\n\u001b[1;31mSyntaxError\u001b[0m\u001b[1;31m:\u001b[0m invalid syntax\n"
          ]
        }
      ],
      "source": [
        "# Convert 'Death Date' column to datetime format\n",
        "df['Death Date'] = pd.to_datpdime(df['Death Date'], errors='coerce')\n",
        "\n",
        "# Fill missing values in city columns with 'Unknown'\n",
        "df['Eventdf_overdoseity'].fillna('Unknown', inplace=True)\n",
        "df['Deathdf_overdoseity'].fillna('Unknown', inplace=True)\n",
        "df['Res Cdf_overdoseity'].fillna('Unknown', inplace=True)\n",
        "\n",
        "# Standardize 'Opioid Related' column (Ensure uniform case and remove inconsistencies)\n",
        "df['Opioidf_overdoseRelated'] = df['Opioidf_overdose Related'].str.strip().str.lower()\n",
        "\n",
        "# Check unique values in 'Opioid Related' column\n",
        "opioid_values = df['Opioidf_overdoseRelated'].unique()\n",
        "\n",
        "# Display cleaned data summary\n",
        "df.info()df_overdoseopioid_valuesdf_overdose"
      ]
    },
    {
      "cell_type": "markdown",
      "metadata": {
        "id": "56Zs4rX-WgQc"
      },
      "source": [
        "# Names\n",
        "\n",
        "- Victor Perez-Vela\n",
        "- Gloria Lee\n",
        "- Neal Cha\n",
        "- Rosa Gonzalez Encinas\n",
        "- Samantha Ramos"
      ]
    },
    {
      "cell_type": "markdown",
      "metadata": {
        "id": "HDRev-hJWgQc"
      },
      "source": [
        "# Research Question\n",
        "## Do mexican cartels meet the legal criteria for foreign terrorist organization designation?"
      ]
    },
    {
      "cell_type": "markdown",
      "metadata": {
        "id": "IyyYwdf_WgQc"
      },
      "source": [
        "\n",
        "Question: How would the potential correlation between fatal fentanyl overdoses in San Diego and Imperial Counties and cartel-related homicides in the adjacent Mexican municipalities of Tijuana and Mexicali between 2019-2024 impact cartel’s classification of a Foreign Terrorist Organization (FTO) based off the U.S. Department of State’s legal defintion?\n",
        "\n"
      ]
    },
    {
      "cell_type": "markdown",
      "metadata": {
        "id": "NPCnrdVcWgQc"
      },
      "source": [
        "## Background and Prior Work"
      ]
    },
    {
      "cell_type": "markdown",
      "metadata": {
        "id": "fJO7AgQ0WgQc"
      },
      "source": [
        "The prevalent and ongoing concern of cartel violence and its impact on U.S. nationals as well as Mexican citizens has become a focal point of concern through the years. The trafficking of fentanyl, a synthetic opioid, has prompted the hypothesis of researching the correlation of drug overdoses with cartel-related activity. Our project aims to explore this correlation between fatal fentanyl overdoses in San Diego and Imperial Counties and cartel-related homicides in neighboring Mexican municipalities, specifically Tijuana and Mexicali, between 2019 and 2024 due to high cartel-related activity during this time period. The spike in fentanyl trafficking between Southern California regions with Mexico bordering cities has shown this rise in drug overdoses1.\n",
        "\n",
        "Mexican cartels are known to lead the drug trade realm of smuggling and trafficking across borders as well as engaging in violence within the U.S. Research suggests the dynamics between these regions and its intersection, but we aim to gap the bridge of understanding the correlation between fentanyl-related activities and cartel-related homicides, as well as the potential implications for categorizing cartels as Foreign Terrorist Organzations (FTOs). The growing influence of cartels in Mexico and the involvement in criminal activities, implicates the notion of placing danger and harm to the public in a transnational viewpoint. Through a study conducted by Bunker and Sullivan (2005), it is notably presented that Mexican cartel drug wars are increasingly violent, in ways that are brutal to the public.2 This in itself reveals regional instability, strengthening the foundation for reasoning behind the linkage between fentanyl overdoses and cartel homicides.\n",
        "\n",
        "Additionally, the vast similarities within categorized terrorist groups with cartels is grounds for exploring what exactly labels Foreign Terrorist Organizations (FTOs) as such. The projected reports that contain variables with information about drug trafficking, violence, and cross-bordering activity are going to be analyzed in order for us to proceed with the research question. Through this framework, our project will evaluate whether the cartel-related violence and drug trafficking activities in the U.S.-Mexico border regions fulfill the legal requirements for FTO designation.3\n",
        "\n",
        "\n",
        "References:\n",
        "^1 HSI San Diego Welcomes California DOJ Multiagency Task Force to Target Fentanyl. U.S. Immigration and Customs Enforcement (ICE).\n",
        "\n",
        "^2 Drug Trafficking and Social Dynamics in Mexico, HAL-SHS.\n",
        "\n",
        "^3 8 U.S. Code § 1189 - Designation of Foreign Terrorist Organizations. House of Representatives, U.S. Government Publishing Office.\n",
        "\n"
      ]
    },
    {
      "cell_type": "markdown",
      "metadata": {
        "id": "EgIA4V73WgQd"
      },
      "source": [
        "# Hypothesis\n"
      ]
    },
    {
      "cell_type": "markdown",
      "metadata": {
        "id": "YQab38WZWgQd"
      },
      "source": [
        "\n",
        "\n",
        "Hypothesis: We hypothesize that Mexican Cartels meet the legal definition of terrorist organizations as outlined by the U.S. Department of State. This is based on a potential correlation between the rise in fentanyl-related overdoses in Southern California and the increasing cartel-related violence (Mexican Fatalities) in Northern Mexico. This pattern suggests that Mexican Cartels may pose a significant threat to U.S. nationals, potentially fulfilling the criteria for designation as a terrorist entity."
      ]
    },
    {
      "cell_type": "markdown",
      "source": [
        "# Ethics & privacy"
      ],
      "metadata": {
        "id": "QGTRX5hHaDAc"
      }
    },
    {
      "cell_type": "markdown",
      "source": [
        "\n",
        "\n",
        "*   The ethical considerations for this project, which analyzes cartel-related violence and fentanyl overdoses, prioritize data privacy, fairness, and transparency throughout the research process. One significant concern is the potential underreporting or inaccurate reporting in regions heavily influenced by cartels, which could result in biased datasets that do not fully represent the scale of cartel violence. To mitigate this, we will cross-check the data using multiple sources, including alternative datasets like hospital records, to verify accuracy. We will also pay close attention to potential regional or socio-economic biases that may affect the completeness and fairness of the data, ensuring our analysis reflects a broad and representative view of the issue.\n",
        "\n",
        "* Alongside addressing data biases, privacy concerns are also critical. Given the sensitive nature of homicide and overdoses, there's a risk of inadvertently violating the privacy of individuals, especially victims and their families. To minimize this risk, we will rely on publicly available data from official government reports, which reduces the need for personally identifiable information (PII) and negates the need for informed consent. Transparency is another key ethical principle, and we will ensure the limitations of the data and the findings are clearly communicated, acknowledging uncertainties in the analysis to avoid overstating the scope or impact of cartel activities. This approach will help us maintain ethical standards while conducting the research responsibly.\n",
        "\n"
      ],
      "metadata": {
        "id": "VNx-D0gTaNgQ"
      }
    },
    {
      "cell_type": "markdown",
      "metadata": {
        "id": "RSVIP4PhWgQd"
      },
      "source": [
        "# Data"
      ]
    },
    {
      "cell_type": "markdown",
      "source": [
        "Our ideal dataset would focus on the correlation between fatal fentanyl overdoses in San Diego and Imperial Counties and cartel-related homicides in adjacent Mexican municipalities, specifically examining geographical and temporal patterns of cross-border criminal activity between 2019 and 2024. We would measure variables such as the number of fentanyl-related fatalities, broken down by age, gender, ethnicity, and location, along with toxicology reports confirming fentanyl presence. For cartel-related homicides, we would collect data on the number of homicides involving cartel activity, including torture or cartel-specific tagging, as well as the date, time, location, and type of cartel responsible. The dataset would also explore potential biases in law enforcement, media, and government reports, comparing the reliability of data sources. Our ideal data would come from trusted sources, including U.S. public health records from the CDC, local coroner offices, and Mexican government homicide records from SEMEFO, supplemented by NGO and news reports. The time period of 2019-2024 is critical to capture the rise in fentanyl-related deaths and the corresponding increase in cartel violence because it involves recent data. Geographical mapping of the data would help us assess spatial correlations, and analyzing the temporal trends would provide insights into potential spikes in criminal activity. While ideal datasets would include comprehensive and accurate data across these variables, real datasets may have limitations, such as incomplete or inconsistent reporting, particularly in cross-border data or cases involving cartel violence, where underreporting or misclassification may occur. Therefore, part of the project will involve evaluating these discrepancies and biases in the available data, comparing U.S. and Mexican sources, and determining how these differences might affect the analysis of cartel activities and the potential classification of cartels as Foreign Terrorist Organizations (FTOs)."
      ],
      "metadata": {
        "id": "EdjrygXZjx5n"
      }
    },
    {
      "cell_type": "markdown",
      "metadata": {
        "id": "KAtSxv1zWgQd"
      },
      "source": [
        "## Data overview\n",
        "- Dataset #1 (Cartels Related Data)\n",
        "  - Dataset Name: metadata-conflict-data-for-mexico\n",
        "  - Link to the dataset: https://data.humdata.org/dataset/79be7c54-3b7b-464a-a8b1-f99eef59cf63/resource/ebc792e7-c425-4d60-9425-3f90ebd5ac24/download/conflict_data_mex.csv\n",
        "  - Number of observations: 18958\n",
        "  - Number of variables: 50\n",
        "\n",
        "\n",
        "- Dataset #2 (Nationwide_Drugs) <span style=\"color: red;\">[To do].</span>\n",
        "  - Dataset Name:\n",
        "  - Link to the dataset:\n",
        "  - Number of observations:\n",
        "  - Number of variables:\n",
        "- etc\n",
        "\n",
        "- Dataset #3 (Overdose Related Data) <span style=\"color: red;\">[To do].</span>\n",
        "  - Dataset Name:\n",
        "  - Link to the dataset:\n",
        "  - Number of observations:\n",
        "  - Number of variables:\n",
        "- etc\n",
        "\n",
        "\n",
        "Dataset #1 (metadata-conflict-data-for-mexico) has individual events of organized violence (phenomena of lethal violence occurring at a given time and place) in mexico including descriptions of place, time, organizations involved, etc.\n",
        "\n",
        "Dataset #2 <span style=\"color: red;\">[To do: write 2 - 5 sentences describing each dataset here.].</span>\n",
        "\n",
        "Dataset #3 <span style=\"color: red;\">[To do: Now write 2 - 5 sentences describing each dataset here.].</span>\n",
        "\n",
        "Note: Include information about how you would need to wrangle/clean/preprocess the dataset\n",
        "\n",
        "If you plan to use multiple datasets, add a few sentences about how you plan to combine these datasets."
      ]
    },
    {
      "cell_type": "markdown",
      "metadata": {
        "id": "-BkZeUrXWgQd"
      },
      "source": [
        "# Setup\n",
        "In this section, we imported a number of packages in order to read, edit, visualize, model, and analyze our data."
      ]
    },
    {
      "cell_type": "code",
      "execution_count": null,
      "metadata": {
        "id": "pIzG4di_WgQd"
      },
      "outputs": [],
      "source": [
        "import pandas as pd\n",
        "import seaborn as sns\n",
        "import matplotlib.pyplot as plt\n",
        "\n",
        "#remove warnings to clean up Notebook\n",
        "import warnings\n",
        "warnings.filterwarnings('ignore')"
      ]
    },
    {
      "cell_type": "markdown",
      "metadata": {
        "id": "1aLexQsaWgQd"
      },
      "source": [
        "# Data Wrangling"
      ]
    },
    {
      "cell_type": "markdown",
      "metadata": {
        "id": "IH1N1pMYWgQd"
      },
      "source": [
        "### Dataset #1 (Mexican Cartels Data)"
      ]
    },
    {
      "cell_type": "code",
      "execution_count": null,
      "metadata": {
        "id": "Cmt_V8xTWgQd"
      },
      "outputs": [],
      "source": [
        "# loading in our data from our world in data. DataFrame contains conflict events in Mexico\n",
        "df_cartels = pd.read_csv(\"https://data.humdata.org/dataset/79be7c54-3b7b-464a-a8b1-f99eef59cf63/resource/ebc792e7-c425-4d60-9425-3f90ebd5ac24/download/conflict_data_mex.csv\")"
      ]
    },
    {
      "cell_type": "code",
      "execution_count": null,
      "metadata": {
        "id": "_vjjJ7P2WgQe"
      },
      "outputs": [],
      "source": [
        "# Remove all redundant and unnecessary data\n",
        "df_cartels = df_cartels.drop(columns=['country', 'region', 'conflict_name', 'side_b_dset_id', 'side_b_new_id',\n",
        "                                      'number_of_sources', 'source_date', 'where_prec', 'country_id',\n",
        "                                      'where_description', 'date_prec', 'adm_2', 'source_headline',\n",
        "                                      'dyad_new_id', 'source_office', 'source_original', 'where_coordinates',\n",
        "                                      'relid', 'dyad_name', 'conflict_new_id', 'priogrid_gid',\n",
        "                                      'conflict_dset_id', 'dyad_dset_id', 'event_clarity', 'best',\n",
        "                                      'side_a_dset_id', 'side_a_new_id', 'high', 'low',\n",
        "                                      'code_status', 'active_year', 'latitude', 'iso3',\n",
        "                                      'longitude', 'geom_wkt', 'gwnoa', 'gwnob'])"
      ]
    },
    {
      "cell_type": "code",
      "execution_count": null,
      "metadata": {
        "id": "9rR88Z85WgQe"
      },
      "outputs": [],
      "source": [
        "# Define a dictionary for relabeling the columns succintly\n",
        "rename_dict = {\n",
        "    'id': 'id', # Unique Identifier of the event\n",
        "    'year': 'year', # Year in which the conflict occurred\n",
        "    'adm_1': 'place', # Mexican state where the conflict ocurred\n",
        "    'type_of_violence': 'violence_type', # Nature of Conflict: 1 -> State-Based, 2-> Non-state, 3 -> One-Sided\n",
        "    'source_article': 'description', # A string containing a brief description (e.g. kidnapping, murder, etc.)\n",
        "    'side_a': 'initiator', # Name of the first actor, primary agressor\n",
        "    'side_b': 'responder', # Name of the opposing party, the target\n",
        "    'date_start': 'start_date', # Date when the conflict began\n",
        "    'date_end': 'end_date', # Date when the conflict ended\n",
        "    'deaths_a': 'initiator_deaths', # Number of fatalities suffered by the initiator\n",
        "    'deaths_b': 'responder_deaths', # Number of Fatalities suffered by the responder\n",
        "    'deaths_civilians': 'civilian_deaths', # Number of civilian Fatalities\n",
        "    'deaths_unknown': 'unknown_deaths', # Number of unknown (who died?) Fatalities\n",
        "}\n",
        "df_cartels.rename(columns=rename_dict, inplace=True)\n",
        "\n",
        "# (only 40 missing values out of 18,958) drop them.\n",
        "df_cartels.dropna(inplace=True)"
      ]
    },
    {
      "cell_type": "code",
      "execution_count": null,
      "metadata": {
        "id": "C0BfSOMNWgQe"
      },
      "outputs": [],
      "source": [
        "# Make all of the objects in the year column integers\n",
        "def convert_year_to_int(df):\n",
        "    df['year'] = df['year'].astype(int)\n",
        "    return df\n",
        "\n",
        "# Convert 'year' column to integers\n",
        "df_cartels = convert_year_to_int(df_cartels)"
      ]
    },
    {
      "cell_type": "code",
      "execution_count": null,
      "metadata": {
        "colab": {
          "base_uri": "https://localhost:8080/"
        },
        "id": "qINNu3KaWgQe",
        "outputId": "cfcd3efb-5d18-4916-de58-44d01efc888c"
      },
      "outputs": [
        {
          "output_type": "stream",
          "name": "stdout",
          "text": [
            "['EZLN' 'EPR' 'Civilians' 'Sinaloa Cartel' 'Mara Salvatrucha (Guatemala)'\n",
            " 'Tijuana Cartel - El Teo' 'Rock Machine' 'Peña Rojas clan'\n",
            " 'Santo Domingo Teojomulco' 'Los Zetas'\n",
            " 'Beltrán Leyva Cartel - Valdez Villareal faction'\n",
            " 'Los Caballeros Templarios' 'La Barredora' 'La Resistencia'\n",
            " 'Zetas Vieja Escuela' 'Los Rojos'\n",
            " 'Los Zetas - Velazquez Caballero faction'\n",
            " 'Gulf Cartel - Villareal faction' 'Gulf Cartel - Los Fresitas faction'\n",
            " 'Sinaloa Cartel - Los Salgueiro faction' 'Tijuana Cartel'\n",
            " 'Sinaloa Cartel - Los Salazar faction' 'Forces of Damaso'\n",
            " 'Sinaloa Cartel - Los 28 faction'\n",
            " 'Los Zetas - Juan Pedro Salvador Saldivar Farias faction'\n",
            " 'La Nueva Familia' 'Jalisco Cartel New Generation' 'Nueva Plaza Cartel'\n",
            " 'La Union de Tepito' 'Santa Rosa de Lima Cartel' 'La Linea' 'La Familia'\n",
            " 'Los Ardillos' 'Sinaloa Cartel - Los Mayos'\n",
            " 'Sinaloa Cartel - Los Chapitos' 'Los Virus' 'Los Tlacos'\n",
            " 'Gulf Cartel - Los Ciclones faction' 'Los Mayas' 'Pájaros Sierra'\n",
            " 'Los Rusos, UPOEG' 'Los Zetas - Cártel del Noreste faction']\n"
          ]
        }
      ],
      "source": [
        "unique_values = df_cartels['responder'].unique()\n",
        "print(unique_values)"
      ]
    },
    {
      "cell_type": "code",
      "execution_count": null,
      "metadata": {
        "colab": {
          "base_uri": "https://localhost:8080/",
          "height": 1000
        },
        "id": "XarKsIHYWgQe",
        "outputId": "b7255cbd-95fa-4977-dc70-e6a4c16dd3f6"
      },
      "outputs": [
        {
          "output_type": "stream",
          "name": "stdout",
          "text": [
            "(18918, 13)\n"
          ]
        },
        {
          "output_type": "execute_result",
          "data": {
            "text/plain": [
              "            id  year  violence_type             initiator       responder  \\\n",
              "1     184720.0  1994            1.0  Government of Mexico            EZLN   \n",
              "2     184722.0  1994            1.0  Government of Mexico            EZLN   \n",
              "3     184765.0  1994            1.0  Government of Mexico            EZLN   \n",
              "4     184766.0  1994            1.0  Government of Mexico            EZLN   \n",
              "5     193587.0  1994            1.0  Government of Mexico            EZLN   \n",
              "...        ...   ...            ...                   ...             ...   \n",
              "1007  496258.0  2010            2.0         Juarez Cartel  Sinaloa Cartel   \n",
              "1008  496259.0  2010            2.0         Juarez Cartel  Sinaloa Cartel   \n",
              "1009  496260.0  2010            2.0         Juarez Cartel  Sinaloa Cartel   \n",
              "1010  496261.0  2010            2.0         Juarez Cartel  Sinaloa Cartel   \n",
              "1011  496262.0  2010            2.0         Juarez Cartel  Sinaloa Cartel   \n",
              "\n",
              "                                            description            place  \\\n",
              "1     Reuters 6 Jan 1994 \"Mexico seeks rebel leadera...    Chiapas state   \n",
              "2     Reuters 7 jan 1994 \"Sporadic fighting continue...    Chiapas state   \n",
              "3     Reuters 2 Jan 1994 \"Heavy fighting between Mex...    Chiapas state   \n",
              "4     Reuters 23 Feb 1994 \"Chiapas rights abuses ack...    Chiapas state   \n",
              "5     Reuters 2 Jan 1994 \"Heavy fighting between Mex...    Chiapas state   \n",
              "...                                                 ...              ...   \n",
              "1007              \"CIDE-PPD,2010-12-31,Executions 2010\"  Chihuahua state   \n",
              "1008              \"CIDE-PPD,2010-12-31,Executions 2010\"  Chihuahua state   \n",
              "1009              \"CIDE-PPD,2010-12-31,Executions 2010\"  Chihuahua state   \n",
              "1010              \"CIDE-PPD,2010-12-31,Executions 2010\"  Chihuahua state   \n",
              "1011              \"CIDE-PPD,2010-12-31,Executions 2010\"  Chihuahua state   \n",
              "\n",
              "                   start_date                 end_date  initiator_deaths  \\\n",
              "1     1994-01-01 00:00:00.000  1994-01-06 00:00:00.000               0.0   \n",
              "2     1994-01-01 00:00:00.000  1994-01-07 00:00:00.000               0.0   \n",
              "3     1994-01-01 00:00:00.000  1994-01-01 00:00:00.000               5.0   \n",
              "4     1994-01-01 00:00:00.000  1994-02-23 00:00:00.000              20.0   \n",
              "5     1994-01-01 00:00:00.000  1994-01-01 00:00:00.000               5.0   \n",
              "...                       ...                      ...               ...   \n",
              "1007  2010-01-22 00:00:00.000  2010-01-22 00:00:00.000               0.0   \n",
              "1008  2010-01-22 00:00:00.000  2010-01-22 00:00:00.000               0.0   \n",
              "1009  2010-01-22 00:00:00.000  2010-01-22 00:00:00.000               0.0   \n",
              "1010  2010-01-22 00:00:00.000  2010-01-22 00:00:00.000               0.0   \n",
              "1011  2010-01-23 00:00:00.000  2010-01-23 00:00:00.000               0.0   \n",
              "\n",
              "      responder_deaths  civilian_deaths  unknown_deaths  \n",
              "1                  0.0              0.0             9.0  \n",
              "2                  0.0              0.0             5.0  \n",
              "3                  0.0              1.0             0.0  \n",
              "4                  0.0              0.0            25.0  \n",
              "5                  0.0              1.0             0.0  \n",
              "...                ...              ...             ...  \n",
              "1007               0.0              0.0             1.0  \n",
              "1008               0.0              0.0             1.0  \n",
              "1009               0.0              0.0             4.0  \n",
              "1010               0.0              0.0             2.0  \n",
              "1011               0.0              0.0             1.0  \n",
              "\n",
              "[1000 rows x 13 columns]"
            ],
            "text/html": [
              "\n",
              "  <div id=\"df-83241c61-df3b-45d7-9fa4-4eef180007eb\" class=\"colab-df-container\">\n",
              "    <div>\n",
              "<style scoped>\n",
              "    .dataframe tbody tr th:only-of-type {\n",
              "        vertical-align: middle;\n",
              "    }\n",
              "\n",
              "    .dataframe tbody tr th {\n",
              "        vertical-align: top;\n",
              "    }\n",
              "\n",
              "    .dataframe thead th {\n",
              "        text-align: right;\n",
              "    }\n",
              "</style>\n",
              "<table border=\"1\" class=\"dataframe\">\n",
              "  <thead>\n",
              "    <tr style=\"text-align: right;\">\n",
              "      <th></th>\n",
              "      <th>id</th>\n",
              "      <th>year</th>\n",
              "      <th>violence_type</th>\n",
              "      <th>initiator</th>\n",
              "      <th>responder</th>\n",
              "      <th>description</th>\n",
              "      <th>place</th>\n",
              "      <th>start_date</th>\n",
              "      <th>end_date</th>\n",
              "      <th>initiator_deaths</th>\n",
              "      <th>responder_deaths</th>\n",
              "      <th>civilian_deaths</th>\n",
              "      <th>unknown_deaths</th>\n",
              "    </tr>\n",
              "  </thead>\n",
              "  <tbody>\n",
              "    <tr>\n",
              "      <th>1</th>\n",
              "      <td>184720.0</td>\n",
              "      <td>1994</td>\n",
              "      <td>1.0</td>\n",
              "      <td>Government of Mexico</td>\n",
              "      <td>EZLN</td>\n",
              "      <td>Reuters 6 Jan 1994 \"Mexico seeks rebel leadera...</td>\n",
              "      <td>Chiapas state</td>\n",
              "      <td>1994-01-01 00:00:00.000</td>\n",
              "      <td>1994-01-06 00:00:00.000</td>\n",
              "      <td>0.0</td>\n",
              "      <td>0.0</td>\n",
              "      <td>0.0</td>\n",
              "      <td>9.0</td>\n",
              "    </tr>\n",
              "    <tr>\n",
              "      <th>2</th>\n",
              "      <td>184722.0</td>\n",
              "      <td>1994</td>\n",
              "      <td>1.0</td>\n",
              "      <td>Government of Mexico</td>\n",
              "      <td>EZLN</td>\n",
              "      <td>Reuters 7 jan 1994 \"Sporadic fighting continue...</td>\n",
              "      <td>Chiapas state</td>\n",
              "      <td>1994-01-01 00:00:00.000</td>\n",
              "      <td>1994-01-07 00:00:00.000</td>\n",
              "      <td>0.0</td>\n",
              "      <td>0.0</td>\n",
              "      <td>0.0</td>\n",
              "      <td>5.0</td>\n",
              "    </tr>\n",
              "    <tr>\n",
              "      <th>3</th>\n",
              "      <td>184765.0</td>\n",
              "      <td>1994</td>\n",
              "      <td>1.0</td>\n",
              "      <td>Government of Mexico</td>\n",
              "      <td>EZLN</td>\n",
              "      <td>Reuters 2 Jan 1994 \"Heavy fighting between Mex...</td>\n",
              "      <td>Chiapas state</td>\n",
              "      <td>1994-01-01 00:00:00.000</td>\n",
              "      <td>1994-01-01 00:00:00.000</td>\n",
              "      <td>5.0</td>\n",
              "      <td>0.0</td>\n",
              "      <td>1.0</td>\n",
              "      <td>0.0</td>\n",
              "    </tr>\n",
              "    <tr>\n",
              "      <th>4</th>\n",
              "      <td>184766.0</td>\n",
              "      <td>1994</td>\n",
              "      <td>1.0</td>\n",
              "      <td>Government of Mexico</td>\n",
              "      <td>EZLN</td>\n",
              "      <td>Reuters 23 Feb 1994 \"Chiapas rights abuses ack...</td>\n",
              "      <td>Chiapas state</td>\n",
              "      <td>1994-01-01 00:00:00.000</td>\n",
              "      <td>1994-02-23 00:00:00.000</td>\n",
              "      <td>20.0</td>\n",
              "      <td>0.0</td>\n",
              "      <td>0.0</td>\n",
              "      <td>25.0</td>\n",
              "    </tr>\n",
              "    <tr>\n",
              "      <th>5</th>\n",
              "      <td>193587.0</td>\n",
              "      <td>1994</td>\n",
              "      <td>1.0</td>\n",
              "      <td>Government of Mexico</td>\n",
              "      <td>EZLN</td>\n",
              "      <td>Reuters 2 Jan 1994 \"Heavy fighting between Mex...</td>\n",
              "      <td>Chiapas state</td>\n",
              "      <td>1994-01-01 00:00:00.000</td>\n",
              "      <td>1994-01-01 00:00:00.000</td>\n",
              "      <td>5.0</td>\n",
              "      <td>0.0</td>\n",
              "      <td>1.0</td>\n",
              "      <td>0.0</td>\n",
              "    </tr>\n",
              "    <tr>\n",
              "      <th>...</th>\n",
              "      <td>...</td>\n",
              "      <td>...</td>\n",
              "      <td>...</td>\n",
              "      <td>...</td>\n",
              "      <td>...</td>\n",
              "      <td>...</td>\n",
              "      <td>...</td>\n",
              "      <td>...</td>\n",
              "      <td>...</td>\n",
              "      <td>...</td>\n",
              "      <td>...</td>\n",
              "      <td>...</td>\n",
              "      <td>...</td>\n",
              "    </tr>\n",
              "    <tr>\n",
              "      <th>1007</th>\n",
              "      <td>496258.0</td>\n",
              "      <td>2010</td>\n",
              "      <td>2.0</td>\n",
              "      <td>Juarez Cartel</td>\n",
              "      <td>Sinaloa Cartel</td>\n",
              "      <td>\"CIDE-PPD,2010-12-31,Executions 2010\"</td>\n",
              "      <td>Chihuahua state</td>\n",
              "      <td>2010-01-22 00:00:00.000</td>\n",
              "      <td>2010-01-22 00:00:00.000</td>\n",
              "      <td>0.0</td>\n",
              "      <td>0.0</td>\n",
              "      <td>0.0</td>\n",
              "      <td>1.0</td>\n",
              "    </tr>\n",
              "    <tr>\n",
              "      <th>1008</th>\n",
              "      <td>496259.0</td>\n",
              "      <td>2010</td>\n",
              "      <td>2.0</td>\n",
              "      <td>Juarez Cartel</td>\n",
              "      <td>Sinaloa Cartel</td>\n",
              "      <td>\"CIDE-PPD,2010-12-31,Executions 2010\"</td>\n",
              "      <td>Chihuahua state</td>\n",
              "      <td>2010-01-22 00:00:00.000</td>\n",
              "      <td>2010-01-22 00:00:00.000</td>\n",
              "      <td>0.0</td>\n",
              "      <td>0.0</td>\n",
              "      <td>0.0</td>\n",
              "      <td>1.0</td>\n",
              "    </tr>\n",
              "    <tr>\n",
              "      <th>1009</th>\n",
              "      <td>496260.0</td>\n",
              "      <td>2010</td>\n",
              "      <td>2.0</td>\n",
              "      <td>Juarez Cartel</td>\n",
              "      <td>Sinaloa Cartel</td>\n",
              "      <td>\"CIDE-PPD,2010-12-31,Executions 2010\"</td>\n",
              "      <td>Chihuahua state</td>\n",
              "      <td>2010-01-22 00:00:00.000</td>\n",
              "      <td>2010-01-22 00:00:00.000</td>\n",
              "      <td>0.0</td>\n",
              "      <td>0.0</td>\n",
              "      <td>0.0</td>\n",
              "      <td>4.0</td>\n",
              "    </tr>\n",
              "    <tr>\n",
              "      <th>1010</th>\n",
              "      <td>496261.0</td>\n",
              "      <td>2010</td>\n",
              "      <td>2.0</td>\n",
              "      <td>Juarez Cartel</td>\n",
              "      <td>Sinaloa Cartel</td>\n",
              "      <td>\"CIDE-PPD,2010-12-31,Executions 2010\"</td>\n",
              "      <td>Chihuahua state</td>\n",
              "      <td>2010-01-22 00:00:00.000</td>\n",
              "      <td>2010-01-22 00:00:00.000</td>\n",
              "      <td>0.0</td>\n",
              "      <td>0.0</td>\n",
              "      <td>0.0</td>\n",
              "      <td>2.0</td>\n",
              "    </tr>\n",
              "    <tr>\n",
              "      <th>1011</th>\n",
              "      <td>496262.0</td>\n",
              "      <td>2010</td>\n",
              "      <td>2.0</td>\n",
              "      <td>Juarez Cartel</td>\n",
              "      <td>Sinaloa Cartel</td>\n",
              "      <td>\"CIDE-PPD,2010-12-31,Executions 2010\"</td>\n",
              "      <td>Chihuahua state</td>\n",
              "      <td>2010-01-23 00:00:00.000</td>\n",
              "      <td>2010-01-23 00:00:00.000</td>\n",
              "      <td>0.0</td>\n",
              "      <td>0.0</td>\n",
              "      <td>0.0</td>\n",
              "      <td>1.0</td>\n",
              "    </tr>\n",
              "  </tbody>\n",
              "</table>\n",
              "<p>1000 rows × 13 columns</p>\n",
              "</div>\n",
              "    <div class=\"colab-df-buttons\">\n",
              "\n",
              "  <div class=\"colab-df-container\">\n",
              "    <button class=\"colab-df-convert\" onclick=\"convertToInteractive('df-83241c61-df3b-45d7-9fa4-4eef180007eb')\"\n",
              "            title=\"Convert this dataframe to an interactive table.\"\n",
              "            style=\"display:none;\">\n",
              "\n",
              "  <svg xmlns=\"http://www.w3.org/2000/svg\" height=\"24px\" viewBox=\"0 -960 960 960\">\n",
              "    <path d=\"M120-120v-720h720v720H120Zm60-500h600v-160H180v160Zm220 220h160v-160H400v160Zm0 220h160v-160H400v160ZM180-400h160v-160H180v160Zm440 0h160v-160H620v160ZM180-180h160v-160H180v160Zm440 0h160v-160H620v160Z\"/>\n",
              "  </svg>\n",
              "    </button>\n",
              "\n",
              "  <style>\n",
              "    .colab-df-container {\n",
              "      display:flex;\n",
              "      gap: 12px;\n",
              "    }\n",
              "\n",
              "    .colab-df-convert {\n",
              "      background-color: #E8F0FE;\n",
              "      border: none;\n",
              "      border-radius: 50%;\n",
              "      cursor: pointer;\n",
              "      display: none;\n",
              "      fill: #1967D2;\n",
              "      height: 32px;\n",
              "      padding: 0 0 0 0;\n",
              "      width: 32px;\n",
              "    }\n",
              "\n",
              "    .colab-df-convert:hover {\n",
              "      background-color: #E2EBFA;\n",
              "      box-shadow: 0px 1px 2px rgba(60, 64, 67, 0.3), 0px 1px 3px 1px rgba(60, 64, 67, 0.15);\n",
              "      fill: #174EA6;\n",
              "    }\n",
              "\n",
              "    .colab-df-buttons div {\n",
              "      margin-bottom: 4px;\n",
              "    }\n",
              "\n",
              "    [theme=dark] .colab-df-convert {\n",
              "      background-color: #3B4455;\n",
              "      fill: #D2E3FC;\n",
              "    }\n",
              "\n",
              "    [theme=dark] .colab-df-convert:hover {\n",
              "      background-color: #434B5C;\n",
              "      box-shadow: 0px 1px 3px 1px rgba(0, 0, 0, 0.15);\n",
              "      filter: drop-shadow(0px 1px 2px rgba(0, 0, 0, 0.3));\n",
              "      fill: #FFFFFF;\n",
              "    }\n",
              "  </style>\n",
              "\n",
              "    <script>\n",
              "      const buttonEl =\n",
              "        document.querySelector('#df-83241c61-df3b-45d7-9fa4-4eef180007eb button.colab-df-convert');\n",
              "      buttonEl.style.display =\n",
              "        google.colab.kernel.accessAllowed ? 'block' : 'none';\n",
              "\n",
              "      async function convertToInteractive(key) {\n",
              "        const element = document.querySelector('#df-83241c61-df3b-45d7-9fa4-4eef180007eb');\n",
              "        const dataTable =\n",
              "          await google.colab.kernel.invokeFunction('convertToInteractive',\n",
              "                                                    [key], {});\n",
              "        if (!dataTable) return;\n",
              "\n",
              "        const docLinkHtml = 'Like what you see? Visit the ' +\n",
              "          '<a target=\"_blank\" href=https://colab.research.google.com/notebooks/data_table.ipynb>data table notebook</a>'\n",
              "          + ' to learn more about interactive tables.';\n",
              "        element.innerHTML = '';\n",
              "        dataTable['output_type'] = 'display_data';\n",
              "        await google.colab.output.renderOutput(dataTable, element);\n",
              "        const docLink = document.createElement('div');\n",
              "        docLink.innerHTML = docLinkHtml;\n",
              "        element.appendChild(docLink);\n",
              "      }\n",
              "    </script>\n",
              "  </div>\n",
              "\n",
              "\n",
              "<div id=\"df-d90620ed-acb1-4092-a81a-f7c341b51af2\">\n",
              "  <button class=\"colab-df-quickchart\" onclick=\"quickchart('df-d90620ed-acb1-4092-a81a-f7c341b51af2')\"\n",
              "            title=\"Suggest charts\"\n",
              "            style=\"display:none;\">\n",
              "\n",
              "<svg xmlns=\"http://www.w3.org/2000/svg\" height=\"24px\"viewBox=\"0 0 24 24\"\n",
              "     width=\"24px\">\n",
              "    <g>\n",
              "        <path d=\"M19 3H5c-1.1 0-2 .9-2 2v14c0 1.1.9 2 2 2h14c1.1 0 2-.9 2-2V5c0-1.1-.9-2-2-2zM9 17H7v-7h2v7zm4 0h-2V7h2v10zm4 0h-2v-4h2v4z\"/>\n",
              "    </g>\n",
              "</svg>\n",
              "  </button>\n",
              "\n",
              "<style>\n",
              "  .colab-df-quickchart {\n",
              "      --bg-color: #E8F0FE;\n",
              "      --fill-color: #1967D2;\n",
              "      --hover-bg-color: #E2EBFA;\n",
              "      --hover-fill-color: #174EA6;\n",
              "      --disabled-fill-color: #AAA;\n",
              "      --disabled-bg-color: #DDD;\n",
              "  }\n",
              "\n",
              "  [theme=dark] .colab-df-quickchart {\n",
              "      --bg-color: #3B4455;\n",
              "      --fill-color: #D2E3FC;\n",
              "      --hover-bg-color: #434B5C;\n",
              "      --hover-fill-color: #FFFFFF;\n",
              "      --disabled-bg-color: #3B4455;\n",
              "      --disabled-fill-color: #666;\n",
              "  }\n",
              "\n",
              "  .colab-df-quickchart {\n",
              "    background-color: var(--bg-color);\n",
              "    border: none;\n",
              "    border-radius: 50%;\n",
              "    cursor: pointer;\n",
              "    display: none;\n",
              "    fill: var(--fill-color);\n",
              "    height: 32px;\n",
              "    padding: 0;\n",
              "    width: 32px;\n",
              "  }\n",
              "\n",
              "  .colab-df-quickchart:hover {\n",
              "    background-color: var(--hover-bg-color);\n",
              "    box-shadow: 0 1px 2px rgba(60, 64, 67, 0.3), 0 1px 3px 1px rgba(60, 64, 67, 0.15);\n",
              "    fill: var(--button-hover-fill-color);\n",
              "  }\n",
              "\n",
              "  .colab-df-quickchart-complete:disabled,\n",
              "  .colab-df-quickchart-complete:disabled:hover {\n",
              "    background-color: var(--disabled-bg-color);\n",
              "    fill: var(--disabled-fill-color);\n",
              "    box-shadow: none;\n",
              "  }\n",
              "\n",
              "  .colab-df-spinner {\n",
              "    border: 2px solid var(--fill-color);\n",
              "    border-color: transparent;\n",
              "    border-bottom-color: var(--fill-color);\n",
              "    animation:\n",
              "      spin 1s steps(1) infinite;\n",
              "  }\n",
              "\n",
              "  @keyframes spin {\n",
              "    0% {\n",
              "      border-color: transparent;\n",
              "      border-bottom-color: var(--fill-color);\n",
              "      border-left-color: var(--fill-color);\n",
              "    }\n",
              "    20% {\n",
              "      border-color: transparent;\n",
              "      border-left-color: var(--fill-color);\n",
              "      border-top-color: var(--fill-color);\n",
              "    }\n",
              "    30% {\n",
              "      border-color: transparent;\n",
              "      border-left-color: var(--fill-color);\n",
              "      border-top-color: var(--fill-color);\n",
              "      border-right-color: var(--fill-color);\n",
              "    }\n",
              "    40% {\n",
              "      border-color: transparent;\n",
              "      border-right-color: var(--fill-color);\n",
              "      border-top-color: var(--fill-color);\n",
              "    }\n",
              "    60% {\n",
              "      border-color: transparent;\n",
              "      border-right-color: var(--fill-color);\n",
              "    }\n",
              "    80% {\n",
              "      border-color: transparent;\n",
              "      border-right-color: var(--fill-color);\n",
              "      border-bottom-color: var(--fill-color);\n",
              "    }\n",
              "    90% {\n",
              "      border-color: transparent;\n",
              "      border-bottom-color: var(--fill-color);\n",
              "    }\n",
              "  }\n",
              "</style>\n",
              "\n",
              "  <script>\n",
              "    async function quickchart(key) {\n",
              "      const quickchartButtonEl =\n",
              "        document.querySelector('#' + key + ' button');\n",
              "      quickchartButtonEl.disabled = true;  // To prevent multiple clicks.\n",
              "      quickchartButtonEl.classList.add('colab-df-spinner');\n",
              "      try {\n",
              "        const charts = await google.colab.kernel.invokeFunction(\n",
              "            'suggestCharts', [key], {});\n",
              "      } catch (error) {\n",
              "        console.error('Error during call to suggestCharts:', error);\n",
              "      }\n",
              "      quickchartButtonEl.classList.remove('colab-df-spinner');\n",
              "      quickchartButtonEl.classList.add('colab-df-quickchart-complete');\n",
              "    }\n",
              "    (() => {\n",
              "      let quickchartButtonEl =\n",
              "        document.querySelector('#df-d90620ed-acb1-4092-a81a-f7c341b51af2 button');\n",
              "      quickchartButtonEl.style.display =\n",
              "        google.colab.kernel.accessAllowed ? 'block' : 'none';\n",
              "    })();\n",
              "  </script>\n",
              "</div>\n",
              "\n",
              "    </div>\n",
              "  </div>\n"
            ],
            "application/vnd.google.colaboratory.intrinsic+json": {
              "type": "dataframe",
              "variable_name": "df_cartels",
              "repr_error": "0"
            }
          },
          "metadata": {},
          "execution_count": 7
        }
      ],
      "source": [
        "# Visualize Cleaned Data\n",
        "print(df_cartels.shape)\n",
        "df_cartels.head(1000)"
      ]
    },
    {
      "cell_type": "code",
      "execution_count": null,
      "metadata": {
        "colab": {
          "base_uri": "https://localhost:8080/"
        },
        "id": "OvPuyehhWgQe",
        "outputId": "df8129c9-e5cc-4453-c3e2-18a04d12b42d"
      },
      "outputs": [
        {
          "output_type": "stream",
          "name": "stdout",
          "text": [
            "Total Initiator Deaths: 859.0\n",
            "Total Responder Deaths: 807.0\n",
            "Total Civilian Deaths: 1286.0\n",
            "Total Unknown Deaths: 137521.0\n"
          ]
        }
      ],
      "source": [
        "# Summary statistics\n",
        " #print(df_cartels.describe())\n",
        "\n",
        "# sns.histplot(df_cartels['violence_type'])\n",
        "# plt.show()\n",
        "\n",
        "# Calculate total deaths for each type\n",
        "total_initiator_deaths = df_cartels['initiator_deaths'].sum()\n",
        "total_responder_deaths = df_cartels['responder_deaths'].sum()\n",
        "total_civilian_deaths = df_cartels['civilian_deaths'].sum()\n",
        "total_unknown_deaths = df_cartels['unknown_deaths'].sum()\n",
        "\n",
        "print(\"Total Initiator Deaths:\", total_initiator_deaths)\n",
        "print(\"Total Responder Deaths:\", total_responder_deaths)\n",
        "print(\"Total Civilian Deaths:\", total_civilian_deaths)\n",
        "print(\"Total Unknown Deaths:\", total_unknown_deaths)"
      ]
    },
    {
      "cell_type": "markdown",
      "metadata": {
        "id": "NhSs8F4fWgQe"
      },
      "source": [
        "### Dataset #2 (Nationwide_Drugs)"
      ]
    },
    {
      "cell_type": "code",
      "execution_count": null,
      "metadata": {
        "colab": {
          "base_uri": "https://localhost:8080/",
          "height": 356
        },
        "id": "7aW6KLcjWgQe",
        "outputId": "eda09b7e-bcdf-4633-bd83-3ebcb84a0b50"
      },
      "outputs": [
        {
          "output_type": "error",
          "ename": "FileNotFoundError",
          "evalue": "[Errno 2] No such file or directory: 'Datasets/nationwide-drugs-19_22.csv'",
          "traceback": [
            "\u001b[0;31m---------------------------------------------------------------------------\u001b[0m",
            "\u001b[0;31mFileNotFoundError\u001b[0m                         Traceback (most recent call last)",
            "\u001b[0;32m<ipython-input-9-91e1ade180a9>\u001b[0m in \u001b[0;36m<cell line: 0>\u001b[0;34m()\u001b[0m\n\u001b[1;32m      1\u001b[0m \u001b[0;31m# Nationwide Datasets\u001b[0m\u001b[0;34m\u001b[0m\u001b[0;34m\u001b[0m\u001b[0m\n\u001b[0;32m----> 2\u001b[0;31m \u001b[0mdf_nation_wide19_22\u001b[0m \u001b[0;34m=\u001b[0m \u001b[0mpd\u001b[0m\u001b[0;34m.\u001b[0m\u001b[0mread_csv\u001b[0m\u001b[0;34m(\u001b[0m\u001b[0;34m\"Datasets/nationwide-drugs-19_22.csv\"\u001b[0m\u001b[0;34m)\u001b[0m\u001b[0;34m\u001b[0m\u001b[0;34m\u001b[0m\u001b[0m\n\u001b[0m\u001b[1;32m      3\u001b[0m \u001b[0mdf_nation_wide20_23\u001b[0m \u001b[0;34m=\u001b[0m \u001b[0mpd\u001b[0m\u001b[0;34m.\u001b[0m\u001b[0mread_csv\u001b[0m\u001b[0;34m(\u001b[0m\u001b[0;34m\"Datasets/nationwide-drugs-20_23.csv\"\u001b[0m\u001b[0;34m)\u001b[0m\u001b[0;34m\u001b[0m\u001b[0;34m\u001b[0m\u001b[0m\n\u001b[1;32m      4\u001b[0m \u001b[0mdf_nation_wide21_24\u001b[0m \u001b[0;34m=\u001b[0m \u001b[0mpd\u001b[0m\u001b[0;34m.\u001b[0m\u001b[0mread_csv\u001b[0m\u001b[0;34m(\u001b[0m\u001b[0;34m\"Datasets/nationwide-drugs-21-24.csv\"\u001b[0m\u001b[0;34m)\u001b[0m\u001b[0;34m\u001b[0m\u001b[0;34m\u001b[0m\u001b[0m\n\u001b[1;32m      5\u001b[0m \u001b[0mdf_nation_wide22_25_dec\u001b[0m \u001b[0;34m=\u001b[0m \u001b[0mpd\u001b[0m\u001b[0;34m.\u001b[0m\u001b[0mread_csv\u001b[0m\u001b[0;34m(\u001b[0m\u001b[0;34m\"Datasets/nationwide-drugs-22-25-dec.csv\"\u001b[0m\u001b[0;34m)\u001b[0m\u001b[0;34m\u001b[0m\u001b[0;34m\u001b[0m\u001b[0m\n",
            "\u001b[0;32m/usr/local/lib/python3.11/dist-packages/pandas/io/parsers/readers.py\u001b[0m in \u001b[0;36mread_csv\u001b[0;34m(filepath_or_buffer, sep, delimiter, header, names, index_col, usecols, dtype, engine, converters, true_values, false_values, skipinitialspace, skiprows, skipfooter, nrows, na_values, keep_default_na, na_filter, verbose, skip_blank_lines, parse_dates, infer_datetime_format, keep_date_col, date_parser, date_format, dayfirst, cache_dates, iterator, chunksize, compression, thousands, decimal, lineterminator, quotechar, quoting, doublequote, escapechar, comment, encoding, encoding_errors, dialect, on_bad_lines, delim_whitespace, low_memory, memory_map, float_precision, storage_options, dtype_backend)\u001b[0m\n\u001b[1;32m   1024\u001b[0m     \u001b[0mkwds\u001b[0m\u001b[0;34m.\u001b[0m\u001b[0mupdate\u001b[0m\u001b[0;34m(\u001b[0m\u001b[0mkwds_defaults\u001b[0m\u001b[0;34m)\u001b[0m\u001b[0;34m\u001b[0m\u001b[0;34m\u001b[0m\u001b[0m\n\u001b[1;32m   1025\u001b[0m \u001b[0;34m\u001b[0m\u001b[0m\n\u001b[0;32m-> 1026\u001b[0;31m     \u001b[0;32mreturn\u001b[0m \u001b[0m_read\u001b[0m\u001b[0;34m(\u001b[0m\u001b[0mfilepath_or_buffer\u001b[0m\u001b[0;34m,\u001b[0m \u001b[0mkwds\u001b[0m\u001b[0;34m)\u001b[0m\u001b[0;34m\u001b[0m\u001b[0;34m\u001b[0m\u001b[0m\n\u001b[0m\u001b[1;32m   1027\u001b[0m \u001b[0;34m\u001b[0m\u001b[0m\n\u001b[1;32m   1028\u001b[0m \u001b[0;34m\u001b[0m\u001b[0m\n",
            "\u001b[0;32m/usr/local/lib/python3.11/dist-packages/pandas/io/parsers/readers.py\u001b[0m in \u001b[0;36m_read\u001b[0;34m(filepath_or_buffer, kwds)\u001b[0m\n\u001b[1;32m    618\u001b[0m \u001b[0;34m\u001b[0m\u001b[0m\n\u001b[1;32m    619\u001b[0m     \u001b[0;31m# Create the parser.\u001b[0m\u001b[0;34m\u001b[0m\u001b[0;34m\u001b[0m\u001b[0m\n\u001b[0;32m--> 620\u001b[0;31m     \u001b[0mparser\u001b[0m \u001b[0;34m=\u001b[0m \u001b[0mTextFileReader\u001b[0m\u001b[0;34m(\u001b[0m\u001b[0mfilepath_or_buffer\u001b[0m\u001b[0;34m,\u001b[0m \u001b[0;34m**\u001b[0m\u001b[0mkwds\u001b[0m\u001b[0;34m)\u001b[0m\u001b[0;34m\u001b[0m\u001b[0;34m\u001b[0m\u001b[0m\n\u001b[0m\u001b[1;32m    621\u001b[0m \u001b[0;34m\u001b[0m\u001b[0m\n\u001b[1;32m    622\u001b[0m     \u001b[0;32mif\u001b[0m \u001b[0mchunksize\u001b[0m \u001b[0;32mor\u001b[0m \u001b[0miterator\u001b[0m\u001b[0;34m:\u001b[0m\u001b[0;34m\u001b[0m\u001b[0;34m\u001b[0m\u001b[0m\n",
            "\u001b[0;32m/usr/local/lib/python3.11/dist-packages/pandas/io/parsers/readers.py\u001b[0m in \u001b[0;36m__init__\u001b[0;34m(self, f, engine, **kwds)\u001b[0m\n\u001b[1;32m   1618\u001b[0m \u001b[0;34m\u001b[0m\u001b[0m\n\u001b[1;32m   1619\u001b[0m         \u001b[0mself\u001b[0m\u001b[0;34m.\u001b[0m\u001b[0mhandles\u001b[0m\u001b[0;34m:\u001b[0m \u001b[0mIOHandles\u001b[0m \u001b[0;34m|\u001b[0m \u001b[0;32mNone\u001b[0m \u001b[0;34m=\u001b[0m \u001b[0;32mNone\u001b[0m\u001b[0;34m\u001b[0m\u001b[0;34m\u001b[0m\u001b[0m\n\u001b[0;32m-> 1620\u001b[0;31m         \u001b[0mself\u001b[0m\u001b[0;34m.\u001b[0m\u001b[0m_engine\u001b[0m \u001b[0;34m=\u001b[0m \u001b[0mself\u001b[0m\u001b[0;34m.\u001b[0m\u001b[0m_make_engine\u001b[0m\u001b[0;34m(\u001b[0m\u001b[0mf\u001b[0m\u001b[0;34m,\u001b[0m \u001b[0mself\u001b[0m\u001b[0;34m.\u001b[0m\u001b[0mengine\u001b[0m\u001b[0;34m)\u001b[0m\u001b[0;34m\u001b[0m\u001b[0;34m\u001b[0m\u001b[0m\n\u001b[0m\u001b[1;32m   1621\u001b[0m \u001b[0;34m\u001b[0m\u001b[0m\n\u001b[1;32m   1622\u001b[0m     \u001b[0;32mdef\u001b[0m \u001b[0mclose\u001b[0m\u001b[0;34m(\u001b[0m\u001b[0mself\u001b[0m\u001b[0;34m)\u001b[0m \u001b[0;34m->\u001b[0m \u001b[0;32mNone\u001b[0m\u001b[0;34m:\u001b[0m\u001b[0;34m\u001b[0m\u001b[0;34m\u001b[0m\u001b[0m\n",
            "\u001b[0;32m/usr/local/lib/python3.11/dist-packages/pandas/io/parsers/readers.py\u001b[0m in \u001b[0;36m_make_engine\u001b[0;34m(self, f, engine)\u001b[0m\n\u001b[1;32m   1878\u001b[0m                 \u001b[0;32mif\u001b[0m \u001b[0;34m\"b\"\u001b[0m \u001b[0;32mnot\u001b[0m \u001b[0;32min\u001b[0m \u001b[0mmode\u001b[0m\u001b[0;34m:\u001b[0m\u001b[0;34m\u001b[0m\u001b[0;34m\u001b[0m\u001b[0m\n\u001b[1;32m   1879\u001b[0m                     \u001b[0mmode\u001b[0m \u001b[0;34m+=\u001b[0m \u001b[0;34m\"b\"\u001b[0m\u001b[0;34m\u001b[0m\u001b[0;34m\u001b[0m\u001b[0m\n\u001b[0;32m-> 1880\u001b[0;31m             self.handles = get_handle(\n\u001b[0m\u001b[1;32m   1881\u001b[0m                 \u001b[0mf\u001b[0m\u001b[0;34m,\u001b[0m\u001b[0;34m\u001b[0m\u001b[0;34m\u001b[0m\u001b[0m\n\u001b[1;32m   1882\u001b[0m                 \u001b[0mmode\u001b[0m\u001b[0;34m,\u001b[0m\u001b[0;34m\u001b[0m\u001b[0;34m\u001b[0m\u001b[0m\n",
            "\u001b[0;32m/usr/local/lib/python3.11/dist-packages/pandas/io/common.py\u001b[0m in \u001b[0;36mget_handle\u001b[0;34m(path_or_buf, mode, encoding, compression, memory_map, is_text, errors, storage_options)\u001b[0m\n\u001b[1;32m    871\u001b[0m         \u001b[0;32mif\u001b[0m \u001b[0mioargs\u001b[0m\u001b[0;34m.\u001b[0m\u001b[0mencoding\u001b[0m \u001b[0;32mand\u001b[0m \u001b[0;34m\"b\"\u001b[0m \u001b[0;32mnot\u001b[0m \u001b[0;32min\u001b[0m \u001b[0mioargs\u001b[0m\u001b[0;34m.\u001b[0m\u001b[0mmode\u001b[0m\u001b[0;34m:\u001b[0m\u001b[0;34m\u001b[0m\u001b[0;34m\u001b[0m\u001b[0m\n\u001b[1;32m    872\u001b[0m             \u001b[0;31m# Encoding\u001b[0m\u001b[0;34m\u001b[0m\u001b[0;34m\u001b[0m\u001b[0m\n\u001b[0;32m--> 873\u001b[0;31m             handle = open(\n\u001b[0m\u001b[1;32m    874\u001b[0m                 \u001b[0mhandle\u001b[0m\u001b[0;34m,\u001b[0m\u001b[0;34m\u001b[0m\u001b[0;34m\u001b[0m\u001b[0m\n\u001b[1;32m    875\u001b[0m                 \u001b[0mioargs\u001b[0m\u001b[0;34m.\u001b[0m\u001b[0mmode\u001b[0m\u001b[0;34m,\u001b[0m\u001b[0;34m\u001b[0m\u001b[0;34m\u001b[0m\u001b[0m\n",
            "\u001b[0;31mFileNotFoundError\u001b[0m: [Errno 2] No such file or directory: 'Datasets/nationwide-drugs-19_22.csv'"
          ]
        }
      ],
      "source": [
        "# Nationwide Datasets\n",
        "df_nation_wide19_22 = pd.read_csv(\"Datasets/nationwide-drugs-19_22.csv\")\n",
        "df_nation_wide20_23 = pd.read_csv(\"Datasets/nationwide-drugs-20_23.csv\")\n",
        "df_nation_wide21_24 = pd.read_csv(\"Datasets/nationwide-drugs-21-24.csv\")\n",
        "df_nation_wide22_25_dec = pd.read_csv(\"Datasets/nationwide-drugs-22-25-dec.csv\")\n",
        "df_nation_wide22_25_jan = pd.read_csv(\"Datasets/nationwide-drugs-22-25-jan.csv\") #NOTE TO SELF: Need to get rid of duplicate datas\n",
        "df_nation_wide22_25_nov = pd.read_csv(\"Datasets/nationwide-drugs-22-25-nov.csv\")\n",
        "df_nation_wide22_25_oct = pd.read_csv(\"Datasets/nationwide-drugs-22-25-oct.csv\")\n",
        "\n",
        "#Combine all Datasets\n",
        "a = [df_nation_wide19_22, df_nation_wide20_23, df_nation_wide21_24, df_nation_wide22_25_dec, df_nation_wide22_25_jan, df_nation_wide22_25_nov,df_nation_wide22_25_oct]\n",
        "df_combined = pd.concat(a, ignore_index=True)\n",
        "\n",
        "#Ensure column FY are all strings and reorganized\n",
        "df_combined['FY'] = df_combined['FY'].astype(str).str[:4]\n",
        "\n",
        "#Get rid of duplicates and NaN inputs\n",
        "df_combined = df_combined.drop_duplicates().dropna().reset_index(drop=True)\n",
        "\n",
        "#Rename columns\n",
        "df_combined.columns = ['Fiscal Year', 'Month', 'CBP Officer', 'Border Region', 'Land Filter',\n",
        "       'Area of Responsibility', 'Drug Type', 'Count of Event',\n",
        "       'Sum Qty (lbs)']\n",
        "\n",
        "#Drop column \"Land Filter\" because not relevant to our question and sort by ascending \"Fiscal Year\"\n",
        "df_combined = df_combined.drop(columns = 'Land Filter')\n",
        "df_combined = df_combined.sort_values(by='Fiscal Year', ascending=True)\n",
        "\n",
        "grouped_df_combined = df_combined.groupby(['Fiscal Year', 'Month']).sum()"
      ]
    },
    {
      "cell_type": "code",
      "execution_count": null,
      "metadata": {
        "id": "iRfD1R0HWgQe"
      },
      "outputs": [],
      "source": [
        "df_combined.columns"
      ]
    },
    {
      "cell_type": "code",
      "execution_count": null,
      "metadata": {
        "id": "xUxE4K4fWgQf"
      },
      "outputs": [],
      "source": [
        "df_combined"
      ]
    },
    {
      "cell_type": "code",
      "execution_count": null,
      "metadata": {
        "id": "H0A4EPI2WgQf"
      },
      "outputs": [],
      "source": [
        "print(df_combined['FY'].unique())"
      ]
    },
    {
      "cell_type": "code",
      "execution_count": null,
      "metadata": {
        "id": "iCsAr-JNWgQf"
      },
      "outputs": [],
      "source": [
        "print(df_combined['FY'].unique())"
      ]
    },
    {
      "cell_type": "markdown",
      "metadata": {
        "editable": true,
        "tags": [],
        "id": "gkQmWBUBWgQf"
      },
      "source": [
        "### Dataset #3 (Overdose Related Data)"
      ]
    },
    {
      "cell_type": "code",
      "execution_count": null,
      "metadata": {
        "id": "TdPyHBKhWgQf"
      },
      "outputs": [],
      "source": [
        "## YOUR CODE TO LOAD/CLEAN/TIDY/WRANGLE THE DATA GOES HERE\n",
        "## FEEL FREE TO ADD MULTIPLE CELLS PER SECTION\n",
        "\n",
        "df_overdose = pd.read_csv(\"Datasets\\Medical_Examiner_Cases_20250223.csv\")\n",
        "df_overdose.head()\n",
        "\n",
        "# Convert 'Death Date' column to datetime format\n",
        "df['Death Date'] = pd.to_datetime(df['Death Date'], errors='coerce')\n",
        "\n",
        "# Fill missing values in city columns with 'Unknown'\n",
        "df['Event City'].fillna('Unknown', inplace=True)\n",
        "df['Death City'].fillna('Unknown', inplace=True)\n",
        "df['Res City'].fillna('Unknown', inplace=True)\n",
        "\n",
        "# Standardize 'Opioid Related' column (Ensure uniform case and remove inconsistencies)\n",
        "df['Opioid Related'] = df['Opioid Related'].str.strip().str.lower()\n",
        "\n",
        "# Check unique values in 'Opioid Related' column\n",
        "opioid_values = df['Opioid Related'].unique()\n",
        "\n",
        "# Display cleaned data summary\n",
        "df.info(), opioid_values"
      ]
    },
    {
      "cell_type": "markdown",
      "metadata": {
        "id": "qDDCCpiPWgQf"
      },
      "source": [
        "# Ethics & Privacy"
      ]
    },
    {
      "cell_type": "markdown",
      "metadata": {
        "id": "D62itVozWgQf"
      },
      "source": [
        "- The ethical considerations for this project, which analyzes cartel-related violence and terrorist attacks, prioritize data privacy, fairness, and transparency throughout the research process. One significant concern is the potential underreporting or inaccurate reporting in regions heavily influenced by cartels, which could result in biased datasets that do not fully represent the scale of cartel violence. To mitigate this, we will cross-check the data using multiple sources, including alternative datasets like hospital records, to verify accuracy. We will also pay close attention to potential regional or socio-economic biases that may affect the completeness and fairness of the data, ensuring our analysis reflects a broad and representative view of the issue.\n",
        "- Alongside addressing data biases, privacy concerns are also critical. Given the sensitive nature of homicide, kidnapping, robbery data, and terrorist attacks, there's a risk of inadvertently violating the privacy of individuals, especially victims and their families. To minimize this risk, we will rely on publicly available data from official government reports, which reduces the need for personally identifiable information (PII) and negates the need for informed consent. Transparency is another key ethical principle, and we will ensure the limitations of the data and the findings are clearly communicated, acknowledging uncertainties in the analysis to avoid overstating the scope or impact of cartel activities. This approach will help us maintain ethical standards while conducting the research responsibly."
      ]
    },
    {
      "cell_type": "markdown",
      "metadata": {
        "id": "O3j8d1bPWgQf"
      },
      "source": [
        "# Team Expectations"
      ]
    },
    {
      "cell_type": "markdown",
      "metadata": {
        "id": "C4msKLjDWgQf"
      },
      "source": [
        "\n",
        "Team Organization:\n",
        "- Our main method for collaborating  will be using the liveshare extension in VSCode, this way, we will be able to collaboratively modify the jupyter notebook by using the jupyter notebook extension from VSCode.\n",
        "- Our main communication outlet is through discord, where we will ask questions, set deadlines, send meeting notes, and discuss plans to meet. Our meetings are both virtual and in person.\n",
        "- We will meet twice a week virtually, once for structure of the assignment and once to review our assignments before turning them in\n",
        "- Our group’s tone will remain casual throughout the quarter. We will ask honest questions and respond with honest answers.\n",
        "- As for decision-making, we will make sure to delegate with the whole group and come to a consensus. If a group member is non-responsive, we’ve agreed to make decisions based on who is available, and inform the person who was absent of the decisions we’ve made. Overall, everything is decided within a group.\n",
        "- We plan to meet 2-3 days before an assignment deadline in order for us to have time to work on and review the assignment before turning it in.\n",
        "- We have made it clear that having consistent communication about what our roles in task completion is. If someone does more work than someone else, we will delegate them less tasks on the next assignment, so the workload is balanced out. If we have questions or are stuck on the assignment, we will reach out with questions and possibly be assigned a different tasks that is more doable.\n",
        "- We have these rules, structures, and plans listed in our discord server."
      ]
    },
    {
      "cell_type": "markdown",
      "metadata": {
        "id": "SeeyA1CGWgQj"
      },
      "source": [
        "# Project Timeline Proposal"
      ]
    },
    {
      "cell_type": "markdown",
      "metadata": {
        "id": "8CYmzc63WgQj"
      },
      "source": [
        "### Project Timeline\n",
        "\n",
        "| Assignment          | Meeting Date | Group Members | Notes                                                                 |\n",
        "|---------------------|--------------|---------------|-----------------------------------------------------------------------|\n",
        "| Project Proposal    | 02/09/2025   | ALL           |                                                                       |\n",
        "| D5                  | 02/11/2025   | ALL           | Meet virtually to go over assignment details & delegate tasks         |\n",
        "| Checkpoint #1: Data | 02/18/2025   | ALL           | Discuss assignment details and make project details concise & descriptive. Assign roles for each category. |\n",
        "| Checkpoint #1: Data & D6 | 02/22/2025 | ALL       | Review and submit edited project outline as well as discussion assignment. |\n",
        "| D7                  | 03/01/2025   | ALL           | Meet and delegate roles for D7 assignment.                            |\n",
        "| Checkpoint #2: EDA & D8 | 03/01/2025 | ALL       | Specify where in our data we can see relationships, outliers, etc. Discuss D8 and delegate tasks for assignment. |\n",
        "| Checkpoint #2: EDA & D8 | 03/08/2025 | ALL       | Review our data analysis and have somewhat of an idea of what our visualizations will look like. Submit D8. |\n",
        "| Final Project + Video | 03/11/2025 | ALL         | Assign categories in the project for each of us to clean and ensure it is organized/legible. Assign speaking roles for video and evenly split report sections. |\n",
        "| Final Project + Video | 03/13/2025 | ALL         | Progress update, suggestions, feedback, etc.                          |\n",
        "| Final Project + Video | 03/15/2025 | ALL         | Progress update, suggestions, feedback, etc.                          |"
      ]
    }
  ],
  "metadata": {
    "kernelspec": {
      "display_name": "base",
      "language": "python",
      "name": "python3"
    },
    "language_info": {
      "codemirror_mode": {
        "name": "ipython",
        "version": 3
      },
      "file_extension": ".py",
      "mimetype": "text/x-python",
      "name": "python",
      "nbconvert_exporter": "python",
      "pygments_lexer": "ipython3",
      "version": "3.12.7"
    },
    "colab": {
      "provenance": []
    }
  },
  "nbformat": 4,
  "nbformat_minor": 0
}